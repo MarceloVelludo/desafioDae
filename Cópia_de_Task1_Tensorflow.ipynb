{
 "cells": [
  {
   "cell_type": "code",
   "execution_count": null,
   "metadata": {
    "id": "G03Slk7Bh6sn"
   },
   "outputs": [],
   "source": [
    "# Reset environment for a new run\n",
    "% reset -f\n",
    "\n",
    "# Load Libraries\n",
    "from os.path import join # for joining file pathnames\n",
    "import pandas as pd\n",
    "import tensorflow as tf\n",
    "from tensorflow import keras\n",
    "from sklearn.preprocessing import MinMaxScaler\n",
    "import numpy as np\n",
    "import matplotlib.pyplot as plt\n",
    "\n",
    "# Set Pandas display options\n",
    "pd.options.display.max_rows = 10\n",
    "pd.options.display.float_format = '{:.1f}'.format"
   ]
  },
  {
   "cell_type": "markdown",
   "metadata": {
    "id": "XYwe-d18jMRU"
   },
   "source": [
    "Bellow is presented a simple linear regression model, the model goal is to fit a simple straight line. Your loss stubbornly refuses to decrease!\n",
    "\n",
    "Figure out why the training is not converging, fix it and explain what you have done. \n"
   ]
  },
  {
   "cell_type": "code",
   "execution_count": null,
   "metadata": {
    "colab": {
     "base_uri": "https://localhost:8080/",
     "height": 298
    },
    "id": "j1MQq_E1nRUq",
    "outputId": "0726d9e8-a923-4daa-8cf4-0bd27f6d541f"
   },
   "outputs": [
    {
     "data": {
      "text/plain": [
       "Text(0, 0.5, 'Label')"
      ]
     },
     "execution_count": 65,
     "metadata": {},
     "output_type": "execute_result"
    },
    {
     "data": {
      "image/png": "[encoded data removed]",
      "text/plain": [
       "<Figure size 432x288 with 1 Axes>"
      ]
     },
     "metadata": {
      "needs_background": "light"
     },
     "output_type": "display_data"
    }
   ],
   "source": [
    "features = np.array(range(10))\n",
    "features = features[:, np.newaxis]\n",
    "\n",
    "# Create labels by adding noise distributed around 0\n",
    "labels = features + np.random.random(size=[10,1]) - 0.5\n",
    "\n",
    "# Visualize the data\n",
    "plt.scatter(features,labels)\n",
    "plt.xlabel(\"Feature\")\n",
    "plt.ylabel(\"Label\")"
   ]
  },
  {
   "cell_type": "code",
   "execution_count": null,
   "metadata": {
    "colab": {
     "base_uri": "https://localhost:8080/"
    },
    "id": "s7n53ZO77QoR",
    "outputId": "3d028703-5c79-4751-faae-990d4cb66a6a"
   },
   "outputs": [
    {
     "data": {
      "text/plain": [
       "array([[0],\n",
       "       [1],\n",
       "       [2],\n",
       "       [3],\n",
       "       [4],\n",
       "       [5],\n",
       "       [6],\n",
       "       [7],\n",
       "       [8],\n",
       "       [9]])"
      ]
     },
     "execution_count": 66,
     "metadata": {},
     "output_type": "execute_result"
    }
   ],
   "source": [
    "features"
   ]
  },
  {
   "cell_type": "code",
   "execution_count": null,
   "metadata": {
    "colab": {
     "base_uri": "https://localhost:8080/"
    },
    "id": "jS2PWf5eIXOM",
    "outputId": "5283ca06-67f8-4fe2-ecde-c4df73a6ab53"
   },
   "outputs": [
    {
     "data": {
      "text/plain": [
       "array([[0.40397819],\n",
       "       [1.28394109],\n",
       "       [2.11742344],\n",
       "       [2.57920997],\n",
       "       [3.74350921],\n",
       "       [4.67871316],\n",
       "       [5.67049306],\n",
       "       [6.77207548],\n",
       "       [7.56466907],\n",
       "       [9.2003338 ]])"
      ]
     },
     "execution_count": 67,
     "metadata": {},
     "output_type": "execute_result"
    }
   ],
   "source": [
    "labels"
   ]
  },
  {
   "cell_type": "code",
   "execution_count": null,
   "metadata": {
    "colab": {
     "base_uri": "https://localhost:8080/"
    },
    "id": "tze0I3UhiAwQ",
    "outputId": "a2709406-f645-4bde-c4d8-c07e34367c25"
   },
   "outputs": [
    {
     "name": "stdout",
     "output_type": "stream",
     "text": [
      "Model: \"sequential_17\"\n",
      "_________________________________________________________________\n",
      "Layer (type)                 Output Shape              Param #   \n",
      "=================================================================\n",
      "dense_17 (Dense)             (None, 1)                 2         \n",
      "=================================================================\n",
      "Total params: 2\n",
      "Trainable params: 2\n",
      "Non-trainable params: 0\n",
      "_________________________________________________________________\n",
      "None\n",
      "Epoch 1/10\n",
      "1/1 [==============================] - 0s 213ms/step - loss: 36.4654\n",
      "Epoch 2/10\n",
      "1/1 [==============================] - 0s 10ms/step - loss: 36.4652\n",
      "Epoch 3/10\n",
      "1/1 [==============================] - 0s 7ms/step - loss: 36.4650\n",
      "Epoch 4/10\n",
      "1/1 [==============================] - 0s 9ms/step - loss: 36.4648\n",
      "Epoch 5/10\n",
      "1/1 [==============================] - 0s 6ms/step - loss: 36.4646\n",
      "Epoch 6/10\n",
      "1/1 [==============================] - 0s 6ms/step - loss: 36.4644\n",
      "Epoch 7/10\n",
      "1/1 [==============================] - 0s 7ms/step - loss: 36.4641\n",
      "Epoch 8/10\n",
      "1/1 [==============================] - 0s 7ms/step - loss: 36.4639\n",
      "Epoch 9/10\n",
      "1/1 [==============================] - 0s 7ms/step - loss: 36.4637\n",
      "Epoch 10/10\n",
      "1/1 [==============================] - 0s 6ms/step - loss: 36.4635\n"
     ]
    }
   ],
   "source": [
    "# Delete any existing assignment to \"model\"\n",
    "model = None\n",
    "\n",
    "# Use a sequential model\n",
    "model = keras.Sequential()\n",
    "\n",
    "# Add a layer with 1 neuron. Use the popular \"tanh\" activation function\n",
    "model.add(keras.layers.Dense(units=1,             # 1 neuron\n",
    "                             activation='tanh',   # 'tanh'\n",
    "                             input_dim=1,\n",
    "    bias_initializer='zeros'))         # number of feature cols=1\n",
    "\n",
    "# Model calculates loss using mean-square error (MSE)\n",
    "# Model trains using Adam optimizer with learning rate = 0.001\n",
    "model.compile(optimizer=tf.keras.optimizers.Adam(0.001),\n",
    "              loss='mse',\n",
    "             )\n",
    "\n",
    "print(model.summary())\n",
    "\n",
    "his = model.fit(x=features,\n",
    "          y=labels,\n",
    "          epochs=10,    # train for 10 epochs\n",
    "          batch_size=10,# use 10 examples per batch\n",
    "          verbose=1)    # verbose=1 prints progress per epoch\n",
    "#Making predictions to plot\n",
    "test = model.predict(features)"
   ]
  },
  {
   "cell_type": "code",
   "execution_count": null,
   "metadata": {
    "colab": {
     "base_uri": "https://localhost:8080/",
     "height": 279
    },
    "id": "AhXB0g_9j8rw",
    "outputId": "fb935beb-1849-41e8-a71b-3aa628f6f7a2"
   },
   "outputs": [
    {
     "data": {
      "image/png": "[encoded data removed]",
      "text/plain": [
       "<Figure size 432x288 with 1 Axes>"
      ]
     },
     "metadata": {
      "needs_background": "light"
     },
     "output_type": "display_data"
    }
   ],
   "source": [
    "import matplotlib.pyplot as plt\n",
    "#Function to plot the graphs given the real and predicted\n",
    "def plotGraph(y_test,y_pred):\n",
    "    if max(y_test) >= max(y_pred):\n",
    "        my_range = int(max(y_test))\n",
    "    else:\n",
    "        my_range = int(max(y_pred))\n",
    "    plt.scatter(range(len(y_pred)), y_pred, color='red', marker='*', alpha=0.8, label= \"Predito\")\n",
    "    plt.scatter(range(len(y_test)), y_test, color='blue',marker='x', alpha=0.8, label= \"Real\")\n",
    "    plt.ylabel('y-real')\n",
    "    plt.xlabel('y-pred')\n",
    "    plt.legend(loc='upper right')\n",
    "    plt.show()\n",
    "    return\n",
    "plotGraph(labels, test)"
   ]
  },
  {
   "cell_type": "code",
   "execution_count": null,
   "metadata": {
    "colab": {
     "base_uri": "https://localhost:8080/"
    },
    "id": "8zFDIIsiB_k2",
    "outputId": "0f4d74c7-20ab-4db1-b828-e614cb6b453a"
   },
   "outputs": [
    {
     "data": {
      "text/plain": [
       "array([[0.40397819],\n",
       "       [1.28394109],\n",
       "       [2.11742344],\n",
       "       [2.57920997],\n",
       "       [3.74350921],\n",
       "       [4.67871316],\n",
       "       [5.67049306],\n",
       "       [6.77207548],\n",
       "       [7.56466907],\n",
       "       [9.2003338 ]])"
      ]
     },
     "execution_count": 70,
     "metadata": {},
     "output_type": "execute_result"
    }
   ],
   "source": [
    "labels"
   ]
  },
  {
   "cell_type": "code",
   "execution_count": null,
   "metadata": {
    "colab": {
     "base_uri": "https://localhost:8080/"
    },
    "id": "SiSQNJ6zCHNT",
    "outputId": "b418567a-2ac6-42b1-92db-df240c915b34"
   },
   "outputs": [
    {
     "data": {
      "text/plain": [
       "array([[ 0.01000002],\n",
       "       [-0.93297666],\n",
       "       [-0.9976458 ],\n",
       "       [-0.99991995],\n",
       "       [-0.9999972 ],\n",
       "       [-1.        ],\n",
       "       [-1.        ],\n",
       "       [-1.        ],\n",
       "       [-1.        ],\n",
       "       [-1.        ]], dtype=float32)"
      ]
     },
     "execution_count": 71,
     "metadata": {},
     "output_type": "execute_result"
    }
   ],
   "source": [
    "test"
   ]
  },
  {
   "cell_type": "markdown",
   "metadata": {
    "id": "pA1t93rmMNXS"
   },
   "source": [
    "Como podemos notar no gráfico os resultados estão entre -1 e 1. Isto é porque a função usada para ativação, no caso tanh, retorna o output entre estes valores. Com isso é preciso normalizar os valores antes de aplicar o modelo.\n",
    "Vamos prosseguir testando uma normalização para a faixa de -1 e 1."
   ]
  },
  {
   "cell_type": "code",
   "execution_count": null,
   "metadata": {
    "colab": {
     "base_uri": "https://localhost:8080/",
     "height": 492
    },
    "id": "lY46gm4s-drc",
    "outputId": "88f2f67f-1de1-43d8-b04d-00e5fb8107c7"
   },
   "outputs": [
    {
     "name": "stdout",
     "output_type": "stream",
     "text": [
      "Model: \"sequential_116\"\n",
      "_________________________________________________________________\n",
      "Layer (type)                 Output Shape              Param #   \n",
      "=================================================================\n",
      "dense_116 (Dense)            (None, 1)                 2         \n",
      "=================================================================\n",
      "Total params: 2\n",
      "Trainable params: 2\n",
      "Non-trainable params: 0\n",
      "_________________________________________________________________\n",
      "None\n"
     ]
    },
    {
     "data": {
      "image/png": "[encoded data removed]",
      "text/plain": [
       "<Figure size 432x288 with 1 Axes>"
      ]
     },
     "metadata": {
      "needs_background": "light"
     },
     "output_type": "display_data"
    }
   ],
   "source": [
    "# Delete any existing assignment to \"model\"\n",
    "model = None\n",
    "# Setting the scaler min max in the range [0,1]\n",
    "scaler_in = preprocessing.MinMaxScaler(feature_range=(0, 1))\n",
    "scaler_out = preprocessing.MinMaxScaler(feature_range=(-1, 1))\n",
    "# Use a sequential model\n",
    "model = keras.Sequential()\n",
    "\n",
    "# Add a layer with 1 neuron. Use the popular \"tanh\" activation function\n",
    "model.add(keras.layers.Dense(units=1,             # 1 neuron\n",
    "                             activation='tanh',   # 'tanh'\n",
    "                             input_dim=1,\n",
    "    bias_initializer='ones'))         # number of feature cols=1\n",
    "\n",
    "# Model calculates loss using mean-square error (MSE)\n",
    "# Model trains using Adam optimizer with learning rate = 0.001\n",
    "model.compile(optimizer=tf.keras.optimizers.Adam(0.001),\n",
    "              loss='mse', \n",
    "             )\n",
    "\n",
    "print(model.summary())\n",
    "#Aplying normalization to the initial target and input \n",
    "labels_norm = scaler_out.fit_transform(labels)\n",
    "features_norm = scaler_in.fit_transform(features)\n",
    "his = model.fit(x=features_norm,\n",
    "          y=labels_norm,\n",
    "          epochs=10000,    # train for 10 epochs\n",
    "          batch_size=10,# use 10 examples per batch\n",
    "          verbose=0)    # verbose=1 prints progress per epoch\n",
    "#Making predictions to plot\n",
    "test_norm = model.predict(features_norm)\n",
    "test = scaler_in.inverse_transform(test_norm)\n",
    "plotGraph(labels, test)"
   ]
  },
  {
   "cell_type": "markdown",
   "metadata": {
    "id": "skJquFgNveYV"
   },
   "source": [
    "Temos uma convergência mas ainda não é o que se espera de performance.\n",
    "Asseguir trocaremos a função de ativação e um novo teste será feito."
   ]
  },
  {
   "cell_type": "code",
   "execution_count": null,
   "metadata": {
    "colab": {
     "base_uri": "https://localhost:8080/",
     "height": 488
    },
    "id": "gjvTMRjvinBF",
    "outputId": "44d3235c-1992-4ec3-93fb-39f2d844bc59"
   },
   "outputs": [
    {
     "name": "stdout",
     "output_type": "stream",
     "text": [
      "Model: \"sequential_117\"\n",
      "_________________________________________________________________\n",
      "Layer (type)                 Output Shape              Param #   \n",
      "=================================================================\n",
      "dense_117 (Dense)            (None, 1)                 2         \n",
      "=================================================================\n",
      "Total params: 2\n",
      "Trainable params: 2\n",
      "Non-trainable params: 0\n",
      "_________________________________________________________________\n",
      "None\n"
     ]
    },
    {
     "data": {
      "image/png": "[encoded data removed]",
      "text/plain": [
       "<Figure size 432x288 with 1 Axes>"
      ]
     },
     "metadata": {
      "needs_background": "light"
     },
     "output_type": "display_data"
    }
   ],
   "source": [
    "# Delete any existing assignment to \"model\"\n",
    "model = None\n",
    "# Setting the scaler min max in the range [0,1]\n",
    "scaler_in = preprocessing.MinMaxScaler(feature_range=(0, 1))\n",
    "scaler_out = preprocessing.MinMaxScaler(feature_range=(0, 1))\n",
    "# Use a sequential model\n",
    "model = keras.Sequential()\n",
    "\n",
    "# Add a layer with 1 neuron. Use the popular \"tanh\" activation function\n",
    "model.add(keras.layers.Dense(units=1,             # 1 neuron\n",
    "                             activation='relu',   # 'tanh'\n",
    "                             input_dim=1,\n",
    "    bias_initializer='ones'))         # number of feature cols=1\n",
    "\n",
    "# Model calculates loss using mean-square error (MSE)\n",
    "# Model trains using Adam optimizer with learning rate = 0.001\n",
    "model.compile(optimizer=tf.keras.optimizers.Adam(0.001),\n",
    "              loss='mse', \n",
    "             )\n",
    "\n",
    "print(model.summary())\n",
    "#Aplying normalization to the initial target and input \n",
    "labels_norm = scaler_out.fit_transform(labels)\n",
    "features_norm = scaler_in.fit_transform(features)\n",
    "his = model.fit(x=features_norm,\n",
    "          y=labels_norm,\n",
    "          epochs=10000,    # train for 10 epochs\n",
    "          batch_size=10,# use 10 examples per batch\n",
    "          verbose=0)    # verbose=1 prints progress per epoch\n",
    "#Making predictions to plot\n",
    "test_norm = model.predict(features_norm)\n",
    "test = scaler_in.inverse_transform(test_norm)\n",
    "plotGraph(labels, test)"
   ]
  },
  {
   "cell_type": "markdown",
   "metadata": {
    "id": "IWz1Q6mfv6-s"
   },
   "source": [
    "Com isso temos uma performance mais adequada."
   ]
  },
  {
   "cell_type": "code",
   "execution_count": null,
   "metadata": {
    "colab": {
     "base_uri": "https://localhost:8080/",
     "height": 488
    },
    "id": "0KWLf5kEwQ7-",
    "outputId": "dd23dcd1-0ed3-4e02-b160-1655e38cf5ce"
   },
   "outputs": [
    {
     "name": "stdout",
     "output_type": "stream",
     "text": [
      "Model: \"sequential_121\"\n",
      "_________________________________________________________________\n",
      "Layer (type)                 Output Shape              Param #   \n",
      "=================================================================\n",
      "dense_121 (Dense)            (None, 1)                 2         \n",
      "=================================================================\n",
      "Total params: 2\n",
      "Trainable params: 2\n",
      "Non-trainable params: 0\n",
      "_________________________________________________________________\n",
      "None\n"
     ]
    },
    {
     "data": {
      "image/png": "[encoded data removed]",
      "text/plain": [
       "<Figure size 432x288 with 1 Axes>"
      ]
     },
     "metadata": {
      "needs_background": "light"
     },
     "output_type": "display_data"
    }
   ],
   "source": [
    "# Delete any existing assignment to \"model\"\n",
    "model = None\n",
    "# Setting the scaler min max in the range [0,1]\n",
    "scaler_in = preprocessing.MinMaxScaler(feature_range=(0, 1))\n",
    "scaler_out = preprocessing.MinMaxScaler(feature_range=(0, 1))\n",
    "# Use a sequential model\n",
    "model = keras.Sequential()\n",
    "\n",
    "# Add a layer with 1 neuron. Use the popular \"tanh\" activation function\n",
    "model.add(keras.layers.Dense(units=1,   # 1 neuron\n",
    "                             input_dim=1,\n",
    "    bias_initializer='ones'))         # number of feature cols=1\n",
    "\n",
    "# Model calculates loss using mean-square error (MSE)\n",
    "# Model trains using Adam optimizer with learning rate = 0.001\n",
    "model.compile(optimizer=tf.keras.optimizers.Adam(0.001),\n",
    "              loss='mse', \n",
    "             )\n",
    "\n",
    "print(model.summary())\n",
    "#Aplying normalization to the initial target and input \n",
    "labels_norm = scaler_out.fit_transform(labels)\n",
    "features_norm = scaler_in.fit_transform(features)\n",
    "his = model.fit(x=features_norm,\n",
    "          y=labels_norm,\n",
    "          epochs=10000,    # train for 10 epochs\n",
    "          batch_size=10,# use 10 examples per batch\n",
    "          verbose=0)    # verbose=1 prints progress per epoch\n",
    "#Making predictions to plot\n",
    "test_norm = model.predict(features_norm)\n",
    "test = scaler_in.inverse_transform(test_norm)\n",
    "plotGraph(labels, test)"
   ]
  },
  {
   "cell_type": "markdown",
   "metadata": {
    "id": "In2Tiky5xtjf"
   },
   "source": [
    "Nesse caso nao precisaria usar uma função de ativação."
   ]
  },
  {
   "cell_type": "markdown",
   "metadata": {
    "id": "jL15xbhy9WIc"
   },
   "source": [
    "Explain clearly, in this text box, what you did to make the model learn the data representation."
   ]
  }
 ],
 "metadata": {
  "colab": {
   "collapsed_sections": [],
   "name": "Cópia de Task1-Tensorflow.ipynb",
   "provenance": []
  },
  "kernelspec": {
   "display_name": "Python 3",
   "language": "python",
   "name": "python3"
  },
  "language_info": {
   "codemirror_mode": {
    "name": "ipython",
    "version": 3
   },
   "file_extension": ".py",
   "mimetype": "text/x-python",
   "name": "python",
   "nbconvert_exporter": "python",
   "pygments_lexer": "ipython3",
   "version": "3.8.6"
  }
 },
 "nbformat": 4,
 "nbformat_minor": 4
}
